{
 "cells": [
  {
   "cell_type": "code",
   "execution_count": 1,
   "id": "3e1a1492",
   "metadata": {},
   "outputs": [],
   "source": [
    "from selenium import webdriver\n",
    "from selenium.webdriver.common.keys import Keys\n",
    "from selenium.webdriver import Firefox\n",
    "from selenium.webdriver.firefox.options import Options\n",
    "import re\n",
    "import json"
   ]
  },
  {
   "cell_type": "code",
   "execution_count": null,
   "id": "5e34636f",
   "metadata": {},
   "outputs": [],
   "source": []
  },
  {
   "cell_type": "code",
   "execution_count": 2,
   "id": "6fc52948",
   "metadata": {},
   "outputs": [
    {
     "name": "stderr",
     "output_type": "stream",
     "text": [
      "c:\\users\\dhadk\\appdata\\local\\programs\\python\\python37\\lib\\site-packages\\ipykernel_launcher.py:1: DeprecationWarning: firefox_profile has been deprecated, please use an Options object\n",
      "  \"\"\"Entry point for launching an IPython kernel.\n",
      "c:\\users\\dhadk\\appdata\\local\\programs\\python\\python37\\lib\\site-packages\\ipykernel_launcher.py:6: DeprecationWarning: firefox_profile has been deprecated, please pass in an Options object\n",
      "  \n"
     ]
    }
   ],
   "source": [
    "profile = webdriver.FirefoxProfile()\n",
    "profile.set_preference(\"browser.download.folderList\", 2)\n",
    "profile.set_preference(\"browser.download.manager.showWhenStarting\", False)\n",
    "profile.set_preference(\"browser.download.dir\", '/home/younesh/Desktop/projects/OIAI/question_generation/pdf_data/')\n",
    "profile.set_preference(\"browser.helperApps.neverAsk.openFile\", \"application/octet-stream\")\n",
    "driver = webdriver.Firefox(firefox_profile=profile)"
   ]
  },
  {
   "cell_type": "code",
   "execution_count": 3,
   "id": "cb2ff48d",
   "metadata": {},
   "outputs": [],
   "source": [
    "search_url= 'https://www.ncertbooks.guru/the-last-lesson-class-12-mcq-questions-with-answers/'"
   ]
  },
  {
   "cell_type": "code",
   "execution_count": 4,
   "id": "49d0c42a",
   "metadata": {},
   "outputs": [],
   "source": [
    "driver.get(search_url)"
   ]
  },
  {
   "cell_type": "code",
   "execution_count": 5,
   "id": "0613625c",
   "metadata": {},
   "outputs": [],
   "source": [
    "element_exist = True\n",
    "i = 1\n",
    "mcq = []"
   ]
  },
  {
   "cell_type": "code",
   "execution_count": 6,
   "id": "13d42616",
   "metadata": {
    "scrolled": true
   },
   "outputs": [
    {
     "name": "stdout",
     "output_type": "stream",
     "text": [
      "Question 1.\n",
      "Franz looked for opportunities to skip school to do what?\n",
      "(a) work on mills\n",
      "(b) go fishing\n",
      "(c) water the plants\n",
      "(d) collect birds eggs\n"
     ]
    },
    {
     "name": "stderr",
     "output_type": "stream",
     "text": [
      "c:\\users\\dhadk\\appdata\\local\\programs\\python\\python37\\lib\\site-packages\\ipykernel_launcher.py:3: DeprecationWarning: find_element_by_xpath is deprecated. Please use find_element(by=By.XPATH, value=xpath) instead\n",
      "  This is separate from the ipykernel package so we can avoid doing imports until\n"
     ]
    },
    {
     "ename": "NameError",
     "evalue": "name 'filter_question' is not defined",
     "output_type": "error",
     "traceback": [
      "\u001b[1;31m---------------------------------------------------------------------------\u001b[0m",
      "\u001b[1;31mNameError\u001b[0m                                 Traceback (most recent call last)",
      "\u001b[1;32m~\\AppData\\Local\\Temp/ipykernel_8256/2262803351.py\u001b[0m in \u001b[0;36m<module>\u001b[1;34m\u001b[0m\n\u001b[0;32m      4\u001b[0m     \u001b[0mprint\u001b[0m\u001b[1;33m(\u001b[0m\u001b[0munformatted_data\u001b[0m\u001b[1;33m)\u001b[0m\u001b[1;33m\u001b[0m\u001b[1;33m\u001b[0m\u001b[0m\n\u001b[0;32m      5\u001b[0m     \u001b[0mX_path_answer_click\u001b[0m \u001b[1;33m=\u001b[0m \u001b[1;34m'//*[@id=\"post-31465\"]/div/div/details[{}]/summary/span'\u001b[0m\u001b[1;33m.\u001b[0m\u001b[0mformat\u001b[0m\u001b[1;33m(\u001b[0m\u001b[0mi\u001b[0m\u001b[1;33m)\u001b[0m\u001b[1;33m\u001b[0m\u001b[1;33m\u001b[0m\u001b[0m\n\u001b[1;32m----> 6\u001b[1;33m     \u001b[0moption_list\u001b[0m\u001b[1;33m,\u001b[0m \u001b[0mquestion\u001b[0m \u001b[1;33m=\u001b[0m \u001b[0mfilter_question\u001b[0m\u001b[1;33m(\u001b[0m\u001b[0munformatted_data\u001b[0m\u001b[1;33m)\u001b[0m\u001b[1;33m\u001b[0m\u001b[1;33m\u001b[0m\u001b[0m\n\u001b[0m\u001b[0;32m      7\u001b[0m     \u001b[0mdriver\u001b[0m\u001b[1;33m.\u001b[0m\u001b[0mfind_element_by_xpath\u001b[0m\u001b[1;33m(\u001b[0m\u001b[0mX_path_answer_click\u001b[0m\u001b[1;33m)\u001b[0m\u001b[1;33m.\u001b[0m\u001b[0mclick\u001b[0m\u001b[1;33m(\u001b[0m\u001b[1;33m)\u001b[0m\u001b[1;33m\u001b[0m\u001b[1;33m\u001b[0m\u001b[0m\n\u001b[0;32m      8\u001b[0m     \u001b[0mX_path_answer\u001b[0m \u001b[1;33m=\u001b[0m \u001b[1;34m'//*[@id=\"post-31465\"]/div/div/details[{}]/p'\u001b[0m\u001b[1;33m.\u001b[0m\u001b[0mformat\u001b[0m\u001b[1;33m(\u001b[0m\u001b[0mi\u001b[0m\u001b[1;33m)\u001b[0m\u001b[1;33m\u001b[0m\u001b[1;33m\u001b[0m\u001b[0m\n",
      "\u001b[1;31mNameError\u001b[0m: name 'filter_question' is not defined"
     ]
    }
   ],
   "source": [
    "while element_exist == True:\n",
    "    X_path_question = '//*[@id=\"post-31465\"]/div/div/p[{}]'.format(i)\n",
    "    unformatted_data = driver.find_element_by_xpath(X_path_question).text\n",
    "    print(unformatted_data)\n",
    "    X_path_answer_click = '//*[@id=\"post-31465\"]/div/div/details[{}]/summary/span'.format(i)\n",
    "    option_list, question = filter_question(unformatted_data)\n",
    "    driver.find_element_by_xpath(X_path_answer_click).click()\n",
    "    X_path_answer = '//*[@id=\"post-31465\"]/div/div/details[{}]/p'.format(i)\n",
    "    answer = driver.find_element_by_xpath(X_path_answer).text\n",
    "    print(\"answer: {}\".format(answer))\n",
    "        \n",
    "    i = i + 1"
   ]
  },
  {
   "cell_type": "code",
   "execution_count": 116,
   "id": "0e87ba61",
   "metadata": {
    "scrolled": true
   },
   "outputs": [
    {
     "name": "stdout",
     "output_type": "stream",
     "text": [
      "//*[@id=\"post-31465\"]/div/div/p[1]\n",
      "Franz looked for opportunities to skip school to do what? \n",
      "\n",
      "no such element ...quiting the program\n",
      "[]\n"
     ]
    },
    {
     "name": "stderr",
     "output_type": "stream",
     "text": [
      "/var/folders/s2/m_dhbw0j4b75p79yvklkvrp40000gn/T/ipykernel_65760/2332269252.py:8: DeprecationWarning: find_element_by_xpath is deprecated. Please use find_element(by=By.XPATH, value=xpath) instead\n",
      "  unformatted_data = driver.find_element_by_xpath(X_path_question).text\n",
      "/var/folders/s2/m_dhbw0j4b75p79yvklkvrp40000gn/T/ipykernel_65760/2332269252.py:14: DeprecationWarning: find_element_by_xpath is deprecated. Please use find_element(by=By.XPATH, value=xpath) instead\n",
      "  driver.find_element_by_xpath(X_path_answer_click).click()\n"
     ]
    }
   ],
   "source": [
    "while element_exist == True:\n",
    "\n",
    "    try:\n",
    "#         //*[@id=\"post-31465\"]/div/div/p[1]\n",
    "        \n",
    "        X_path_question = '//*[@id=\"post-31465\"]/div/div/p[{}]'.format(i)\n",
    "        print(X_path_question)\n",
    "        unformatted_data = driver.find_element_by_xpath(X_path_question).text\n",
    "        X_path_answer_click = '//*[@id=\"post-31465\"]/div/div/details[{}]/summary/span'.format(i)\n",
    "        \n",
    "        option_list, question = filter_question(unformatted_data)\n",
    "#         print(option_list, '\\n', question, '\\n')\n",
    "        \n",
    "        driver.find_element_by_xpath(X_path_answer_click).click()\n",
    "        \n",
    "        X_path_answer = '//*[@id=\"post-31465\"]/div/div/details[{}]/p'.format(i)\n",
    "        answer = driver.find_element_by_xpath(X_path_answer).text\n",
    "        \n",
    "        main_answer, option = filter_answer(answer)\n",
    "#         print(main_answer, '\\n', option, '\\n')\n",
    "        data = {'question': question, 'options': option_list, 'answer': main_answer, 'answer_option': option}\n",
    "        print(data)\n",
    "        mcq.append(data)\n",
    "        \n",
    "        i = i + 1\n",
    "    except:\n",
    "        print(\"no such element ...quiting the program\")\n",
    "        print(mcq)\n",
    "        with open(\"mcq.json\", \"w\") as f:  \n",
    "           json.dump(mcq, f)\n",
    "        element_exist = False  "
   ]
  },
  {
   "cell_type": "code",
   "execution_count": null,
   "id": "f653af1a",
   "metadata": {},
   "outputs": [],
   "source": []
  },
  {
   "cell_type": "code",
   "execution_count": null,
   "id": "b1b37209",
   "metadata": {},
   "outputs": [],
   "source": []
  },
  {
   "cell_type": "code",
   "execution_count": 83,
   "id": "905638cd",
   "metadata": {},
   "outputs": [],
   "source": [
    "# //*[@id=\"post-96549\"]/div/div/p[3]\n",
    "\n",
    "question = \"\"\"Question 4.\n",
    "Franz thinks- will they make them sing in German- even the pigeons? What could this mean?\n",
    "(a) German would use brutal force over everyone\n",
    "(b) harsh orders will be passed\n",
    "(c) when people are deprived of their essence even the surroundings are affected.\n",
    "(d) the Germans will rob France of its language.\"\"\""
   ]
  },
  {
   "cell_type": "code",
   "execution_count": 104,
   "id": "3ff2608d",
   "metadata": {},
   "outputs": [
    {
     "name": "stdout",
     "output_type": "stream",
     "text": [
      "Franz thinks- will they make them sing in German- even the pigeons? What could this mean? \n",
      "\n",
      "Question 4.\n",
      "Franz thinks- will they make them sing in German- even the pigeons? What could this mean?\n",
      "(a) German would use brutal force over everyone\n",
      "(b) harsh orders will be passed\n",
      "(c) when people are deprived of their essence even the surroundings are affected.\n",
      "(d) the Germans will rob France of its language.\n"
     ]
    }
   ],
   "source": [
    "def filter_question(question):\n",
    "    split_string = question.split('\\n')\n",
    "    print(split_string[1] , '\\n')\n",
    "    question_scraped = split_string[1]\n",
    "    options = split_string[2:]\n",
    "    options = filter_options(options)\n",
    "    \n",
    "    return options, question_scraped\n",
    "#     return {}\n",
    "options, question1 = filter_question(question)\n",
    "print(question)"
   ]
  },
  {
   "cell_type": "code",
   "execution_count": null,
   "id": "bdb5a7e7",
   "metadata": {},
   "outputs": [],
   "source": []
  },
  {
   "cell_type": "code",
   "execution_count": 28,
   "id": "a10a8b0e",
   "metadata": {},
   "outputs": [],
   "source": [
    "\n",
    "answer = 'Answer: (d) strange quietness '\n",
    "def filter_answer(answer):\n",
    "    split_answer = answer.split()\n",
    "    ans = split_answer[1:] \n",
    "    ans[0] = ans[0].replace('(', '')\n",
    "    ans[0] = ans[0].replace(')', '')\n",
    "    option = ans[0]\n",
    "    ans = ans[1:]\n",
    "    answer_formatted = \" \".join(str(element)for element  in ans)\n",
    "    \n",
    "    return answer_formatted, option\n"
   ]
  },
  {
   "cell_type": "code",
   "execution_count": 48,
   "id": "a01ea6f1",
   "metadata": {},
   "outputs": [],
   "source": [
    "def create_dataframe(payload):\n",
    "    pass"
   ]
  },
  {
   "cell_type": "code",
   "execution_count": 29,
   "id": "c1885adf",
   "metadata": {},
   "outputs": [],
   "source": [
    "def filter_options(options):\n",
    "    option = []\n",
    "    for sentence in options:\n",
    "        sentence = sentence.split()\n",
    "        sentence = sentence[1:]\n",
    "        opt = \" \".join(str(element)for element  in sentence)\n",
    "        option.append(opt)\n",
    "        \n",
    "    return option"
   ]
  },
  {
   "cell_type": "code",
   "execution_count": 151,
   "id": "fac9ba0b",
   "metadata": {},
   "outputs": [],
   "source": [
    "def convert_to_json():\n",
    "    return df"
   ]
  }
 ],
 "metadata": {
  "kernelspec": {
   "display_name": "Python 3 (ipykernel)",
   "language": "python",
   "name": "python3"
  },
  "language_info": {
   "codemirror_mode": {
    "name": "ipython",
    "version": 3
   },
   "file_extension": ".py",
   "mimetype": "text/x-python",
   "name": "python",
   "nbconvert_exporter": "python",
   "pygments_lexer": "ipython3",
   "version": "3.7.4"
  }
 },
 "nbformat": 4,
 "nbformat_minor": 5
}
